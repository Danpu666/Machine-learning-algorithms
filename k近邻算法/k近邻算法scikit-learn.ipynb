{
 "cells": [
  {
   "cell_type": "code",
   "execution_count": 1,
   "metadata": {
    "collapsed": true
   },
   "outputs": [],
   "source": [
    "#-*-coding:utf-8 -*-\n",
    "from sklearn import datasets\n",
    "from sklearn.neighbors import KNeighborsClassifier \n",
    "import numpy as np"
   ]
  },
  {
   "cell_type": "code",
   "execution_count": 2,
   "metadata": {
    "collapsed": true
   },
   "outputs": [],
   "source": [
    "###导入数据\n",
    "file=open('C:\\\\Users\\\\sony\\\\Desktop\\\\datingTestSet.txt')\n",
    "a=file.readlines()\n",
    "#得到文件行数\n",
    "Lines = len(a)\n",
    "#返回的NumPy矩阵,解析完成的数据:numberOfLines行,3列\n",
    "data = np.zeros((Lines,3))\n",
    "#返回的分类标签向量\n",
    "Labels = []\n",
    "#行的索引值\n",
    "index = 0\n",
    "for line in a:\n",
    "    #s.strip(rm)，当rm空时,默认删除空白符(包括'\\n','\\r','\\t',' ')\n",
    "    line = line.strip()\n",
    "    #使用s.split(str=\"\",num=string,cout(str))将字符串根据'\\t'分隔符进行切片。\n",
    "    Line = line.split('\\t')\n",
    "    #将数据前三列提取出来,存放到returnMat的NumPy矩阵中,也就是特征矩阵\n",
    "    data[index,:] = Line[0:3]\n",
    "    #根据文本中标记的喜欢的程度进行分类,1代表不喜欢,2代表魅力一般,3代表极具魅力\n",
    "    if Line[-1] == 'didntLike':\n",
    "        Labels.append(1)\n",
    "    elif Line[-1] == 'smallDoses':\n",
    "        Labels.append(2)\n",
    "    elif Line[-1] == 'largeDoses':\n",
    "        Labels.append(3)\n",
    "    index += 1"
   ]
  },
  {
   "cell_type": "code",
   "execution_count": 3,
   "metadata": {
    "collapsed": true
   },
   "outputs": [],
   "source": [
    "##划分数据\n",
    "ratio=0.1\n",
    "len=data.shape[0]\n",
    "m=int(len*ratio)\n",
    "\n",
    "x_train=data[0:m,:]\n",
    "y_train=Labels[0:m]\n",
    "x_test=data[m:len,:]\n",
    "y_test=Labels[m:len]"
   ]
  },
  {
   "cell_type": "code",
   "execution_count": 17,
   "metadata": {},
   "outputs": [
    {
     "name": "stdout",
     "output_type": "stream",
     "text": [
      "对比 [[ 3.  3.]\n",
      " [ 3.  1.]\n",
      " [ 2.  2.]\n",
      " ..., \n",
      " [ 3.  3.]\n",
      " [ 1.  3.]\n",
      " [ 1.  3.]]\n",
      "准确率为： 0.778888888889\n"
     ]
    }
   ],
   "source": [
    "knn = KNeighborsClassifier() \n",
    "#定义一个knn分类器对象\n",
    "knn.fit(x_train, y_train)  \n",
    "#调用该对象的训练方法，主要接收两个参数：训练数据集及其样本标签\n",
    "y_predict = knn.predict(x_test)\n",
    "#调用该对象的测试方法，主要接收一个参数：测试数据集\n",
    "a=np.zeros([y_predict.shape[0],2])\n",
    "a[:,0]=y_predict\n",
    "a[:,1]=y_test\n",
    "print('对比',a)\n",
    "\n",
    "score=knn.score(x_test,y_test,sample_weight=None)\n",
    "#调用该对象的打分方法，计算出准确率\n",
    "print('准确率为：',score)"
   ]
  }
 ],
 "metadata": {
  "kernelspec": {
   "display_name": "Python 3",
   "language": "python",
   "name": "python3"
  },
  "language_info": {
   "codemirror_mode": {
    "name": "ipython",
    "version": 3
   },
   "file_extension": ".py",
   "mimetype": "text/x-python",
   "name": "python",
   "nbconvert_exporter": "python",
   "pygments_lexer": "ipython3",
   "version": "3.6.2"
  }
 },
 "nbformat": 4,
 "nbformat_minor": 2
}
