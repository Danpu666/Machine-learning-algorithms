{
 "cells": [
  {
   "cell_type": "code",
   "execution_count": 164,
   "metadata": {
    "collapsed": true
   },
   "outputs": [],
   "source": [
    "#####本程序考虑边界为曲线的情况"
   ]
  },
  {
   "cell_type": "code",
   "execution_count": 165,
   "metadata": {},
   "outputs": [],
   "source": [
    "from numpy import *\n",
    "from pylab import *\n",
    "import scipy as sp\n",
    "from scipy.optimize import fmin_bfgs"
   ]
  },
  {
   "cell_type": "code",
   "execution_count": 166,
   "metadata": {
    "collapsed": true
   },
   "outputs": [],
   "source": [
    "data=loadtxt('C:/Users/sony/Desktop/data2.txt',delimiter=',')\n",
    "X=data[:,0:2]\n",
    "y=data[:,2]"
   ]
  },
  {
   "cell_type": "code",
   "execution_count": 167,
   "metadata": {},
   "outputs": [
    {
     "data": {
      "image/png": "[encoded data removed]",
      "text/plain": [
       "<matplotlib.figure.Figure at 0x1fb6e3edc18>"
      ]
     },
     "metadata": {},
     "output_type": "display_data"
    }
   ],
   "source": [
    "######图像展示\n",
    "pos = where(y == 1)  \n",
    "neg = where(y == 0)  \n",
    "scatter(X[pos, 0], X[pos, 1], marker='o', c='b')  \n",
    "scatter(X[neg, 0], X[neg, 1], marker='x', c='r')  \n",
    "xlabel('Feature1')  \n",
    "ylabel('Feature2')\n",
    "show() "
   ]
  },
  {
   "cell_type": "code",
   "execution_count": 168,
   "metadata": {
    "collapsed": true
   },
   "outputs": [],
   "source": [
    "#####sigmoid函数\n",
    "def sigmoid(X):\n",
    "    a=1.0+e**(-X)\n",
    "    z=1.0/a\n",
    "    return z"
   ]
  },
  {
   "cell_type": "code",
   "execution_count": 169,
   "metadata": {
    "collapsed": true
   },
   "outputs": [],
   "source": [
    "def map_feature(x1, x2):  \n",
    "    ''''' \n",
    "    Maps the two input features to polonomial features. \n",
    "    Returns a new feature array with more features of \n",
    "    1, X1, X2, X1 ** 2, X1*X2, X2 ** 2, etc... \n",
    "    '''  \n",
    "    ##增加x1,x2的维度\n",
    "    x1.shape =(x1.size,1)  \n",
    "    x2.shape =(x2.size,1)  \n",
    "    \n",
    "    degree =2  \n",
    "    mapped_fea = ones(shape=(x1[:,0].size,1))  \n",
    "    m, n = mapped_fea.shape  \n",
    "    for i in range(1, degree +1):  \n",
    "        for j in range(i +1):  \n",
    "            r =(x1 **(i - j))*(x2 ** j)  \n",
    "            mapped_fea = append(mapped_fea,r, axis=1)\n",
    "    return mapped_fea    "
   ]
  },
  {
   "cell_type": "code",
   "execution_count": 170,
   "metadata": {},
   "outputs": [],
   "source": [
    "def cost_function_reg(theta, X, y, l):  \n",
    "    '''''Compute the cost  '''  \n",
    "    h = sigmoid(X.dot(theta))  \n",
    "    #thetaR = theta[1:,0].reshape(theta.shape[0]-1,1)\n",
    "    thetaR=zeros([theta.shape[0]-1,1])\n",
    "    for i in range(theta.shape[0]-1):\n",
    "        thetaR[i]=theta[i+1]\n",
    "        \n",
    "    J =(1.0/ m)*((-y.T.dot(log(h)))-((1- y.T).dot(log(1.0- h))))+(l /(2.0* m))*(thetaR.T.dot(thetaR))  \n",
    "    \n",
    "    #return J.flatten(), out.T.flatten()  \n",
    "    return J"
   ]
  },
  {
   "cell_type": "code",
   "execution_count": 171,
   "metadata": {
    "collapsed": true
   },
   "outputs": [],
   "source": [
    "def function_grad(theta, X, y, l):\n",
    "    h = sigmoid(X.dot(theta))\n",
    "    \n",
    "    \n",
    "    thetaR=zeros([theta.shape[0]-1,1])\n",
    "    for i in range(theta.shape[0]-1):\n",
    "        thetaR[i]=theta[i+1]\n",
    "    #thetaR =theta[1:,0].reshape(theta.shape[0]-1,1)\n",
    "    \n",
    "    delta = h - y  \n",
    "    sum_delta = delta.T.dot(X[:,1])  \n",
    "    grad1 =(1.0/ m)* sum_delta  \n",
    "    \n",
    "    XR = X[:,1:X.shape[1]]  \n",
    "    sum_delta = XR.T.dot(delta) \n",
    "    grad =(1.0/ m)*(sum_delta + l * thetaR)  \n",
    "    \n",
    "    out = zeros(shape=(grad.shape[0]+1, grad.shape[1]))  \n",
    "    out[0,]= grad1  \n",
    "    out[1:,]= grad  \n",
    "    return out"
   ]
  },
  {
   "cell_type": "code",
   "execution_count": 172,
   "metadata": {},
   "outputs": [
    {
     "name": "stdout",
     "output_type": "stream",
     "text": [
      "[[ 0.69314718]]\n",
      "[[  1.87880932e-02]\n",
      " [  1.87880932e-02]\n",
      " [  7.77711864e-05]\n",
      " [  5.03446395e-02]\n",
      " [  1.15013308e-02]\n",
      " [  3.76648474e-02]]\n"
     ]
    },
    {
     "data": {
      "text/plain": [
       "(6, 1)"
      ]
     },
     "execution_count": 172,
     "metadata": {},
     "output_type": "execute_result"
    }
   ],
   "source": [
    "###############################测试函数cost_function_reg\n",
    "m, n = X.shape  \n",
    "y.shape =(m,1)  \n",
    "it = map_feature(X[:,0], X[:,1])  \n",
    "#Initialize theta parameters  \n",
    "initial_theta = zeros(shape=(it.shape[1],1))  \n",
    "#Use regularization and set parameter lambda to 1  \n",
    "l =1  \n",
    "# Compute and display initial cost and gradient for regularized logistic regression  \n",
    "cost=cost_function_reg(initial_theta, it, y, l)\n",
    "grad=function_grad(initial_theta, it, y, l)\n",
    "print(cost)\n",
    "print(grad)\n",
    "grad.shape"
   ]
  },
  {
   "cell_type": "code",
   "execution_count": 174,
   "metadata": {},
   "outputs": [
    {
     "ename": "ValueError",
     "evalue": "shapes (6,118) and (6,118) not aligned: 118 (dim 1) != 6 (dim 0)",
     "output_type": "error",
     "traceback": [
      "\u001b[1;31m---------------------------------------------------------------------------\u001b[0m",
      "\u001b[1;31mValueError\u001b[0m                                Traceback (most recent call last)",
      "\u001b[1;32m<ipython-input-174-4003e92e8889>\u001b[0m in \u001b[0;36m<module>\u001b[1;34m()\u001b[0m\n\u001b[0;32m      4\u001b[0m \u001b[1;32mdef\u001b[0m \u001b[0mdecorated_grad\u001b[0m\u001b[1;33m(\u001b[0m\u001b[0mtheta\u001b[0m\u001b[1;33m)\u001b[0m\u001b[1;33m:\u001b[0m\u001b[1;33m\u001b[0m\u001b[0m\n\u001b[0;32m      5\u001b[0m     \u001b[1;32mreturn\u001b[0m \u001b[0mfunction_grad\u001b[0m\u001b[1;33m(\u001b[0m\u001b[0mtheta\u001b[0m\u001b[1;33m,\u001b[0m \u001b[0mit\u001b[0m\u001b[1;33m,\u001b[0m \u001b[0my\u001b[0m\u001b[1;33m,\u001b[0m \u001b[0ml\u001b[0m\u001b[1;33m)\u001b[0m\u001b[1;33m\u001b[0m\u001b[0m\n\u001b[1;32m----> 6\u001b[1;33m \u001b[0mresult\u001b[0m\u001b[1;33m=\u001b[0m\u001b[0mfmin_bfgs\u001b[0m\u001b[1;33m(\u001b[0m\u001b[0mdecorated_cost\u001b[0m\u001b[1;33m,\u001b[0m \u001b[0minitial_theta\u001b[0m\u001b[1;33m,\u001b[0m\u001b[0mfprime\u001b[0m\u001b[1;33m=\u001b[0m\u001b[0mdecorated_grad\u001b[0m\u001b[1;33m,\u001b[0m\u001b[0mmaxiter\u001b[0m\u001b[1;33m=\u001b[0m\u001b[1;36m1000\u001b[0m\u001b[1;33m)\u001b[0m\u001b[1;33m\u001b[0m\u001b[0m\n\u001b[0m\u001b[0;32m      7\u001b[0m \u001b[0mprint\u001b[0m\u001b[1;33m(\u001b[0m\u001b[0mresult\u001b[0m\u001b[1;33m)\u001b[0m\u001b[1;33m\u001b[0m\u001b[0m\n",
      "\u001b[1;32mF:\\Anaconda\\lib\\site-packages\\scipy\\optimize\\optimize.py\u001b[0m in \u001b[0;36mfmin_bfgs\u001b[1;34m(f, x0, fprime, args, gtol, norm, epsilon, maxiter, full_output, disp, retall, callback)\u001b[0m\n\u001b[0;32m    857\u001b[0m             'return_all': retall}\n\u001b[0;32m    858\u001b[0m \u001b[1;33m\u001b[0m\u001b[0m\n\u001b[1;32m--> 859\u001b[1;33m     \u001b[0mres\u001b[0m \u001b[1;33m=\u001b[0m \u001b[0m_minimize_bfgs\u001b[0m\u001b[1;33m(\u001b[0m\u001b[0mf\u001b[0m\u001b[1;33m,\u001b[0m \u001b[0mx0\u001b[0m\u001b[1;33m,\u001b[0m \u001b[0margs\u001b[0m\u001b[1;33m,\u001b[0m \u001b[0mfprime\u001b[0m\u001b[1;33m,\u001b[0m \u001b[0mcallback\u001b[0m\u001b[1;33m=\u001b[0m\u001b[0mcallback\u001b[0m\u001b[1;33m,\u001b[0m \u001b[1;33m**\u001b[0m\u001b[0mopts\u001b[0m\u001b[1;33m)\u001b[0m\u001b[1;33m\u001b[0m\u001b[0m\n\u001b[0m\u001b[0;32m    860\u001b[0m \u001b[1;33m\u001b[0m\u001b[0m\n\u001b[0;32m    861\u001b[0m     \u001b[1;32mif\u001b[0m \u001b[0mfull_output\u001b[0m\u001b[1;33m:\u001b[0m\u001b[1;33m\u001b[0m\u001b[0m\n",
      "\u001b[1;32mF:\\Anaconda\\lib\\site-packages\\scipy\\optimize\\optimize.py\u001b[0m in \u001b[0;36m_minimize_bfgs\u001b[1;34m(fun, x0, args, jac, callback, gtol, norm, eps, maxiter, disp, return_all, **unknown_options)\u001b[0m\n\u001b[0;32m    932\u001b[0m             \u001b[0malpha_k\u001b[0m\u001b[1;33m,\u001b[0m \u001b[0mfc\u001b[0m\u001b[1;33m,\u001b[0m \u001b[0mgc\u001b[0m\u001b[1;33m,\u001b[0m \u001b[0mold_fval\u001b[0m\u001b[1;33m,\u001b[0m \u001b[0mold_old_fval\u001b[0m\u001b[1;33m,\u001b[0m \u001b[0mgfkp1\u001b[0m \u001b[1;33m=\u001b[0m\u001b[0;31m \u001b[0m\u001b[0;31m\\\u001b[0m\u001b[1;33m\u001b[0m\u001b[0m\n\u001b[0;32m    933\u001b[0m                      _line_search_wolfe12(f, myfprime, xk, pk, gfk,\n\u001b[1;32m--> 934\u001b[1;33m                                           old_fval, old_old_fval, amin=1e-100, amax=1e100)\n\u001b[0m\u001b[0;32m    935\u001b[0m         \u001b[1;32mexcept\u001b[0m \u001b[0m_LineSearchError\u001b[0m\u001b[1;33m:\u001b[0m\u001b[1;33m\u001b[0m\u001b[0m\n\u001b[0;32m    936\u001b[0m             \u001b[1;31m# Line search failed to find a better solution.\u001b[0m\u001b[1;33m\u001b[0m\u001b[1;33m\u001b[0m\u001b[0m\n",
      "\u001b[1;32mF:\\Anaconda\\lib\\site-packages\\scipy\\optimize\\optimize.py\u001b[0m in \u001b[0;36m_line_search_wolfe12\u001b[1;34m(f, fprime, xk, pk, gfk, old_fval, old_old_fval, **kwargs)\u001b[0m\n\u001b[0;32m    763\u001b[0m     ret = line_search_wolfe1(f, fprime, xk, pk, gfk,\n\u001b[0;32m    764\u001b[0m                              \u001b[0mold_fval\u001b[0m\u001b[1;33m,\u001b[0m \u001b[0mold_old_fval\u001b[0m\u001b[1;33m,\u001b[0m\u001b[1;33m\u001b[0m\u001b[0m\n\u001b[1;32m--> 765\u001b[1;33m                              **kwargs)\n\u001b[0m\u001b[0;32m    766\u001b[0m \u001b[1;33m\u001b[0m\u001b[0m\n\u001b[0;32m    767\u001b[0m     \u001b[1;32mif\u001b[0m \u001b[0mret\u001b[0m\u001b[1;33m[\u001b[0m\u001b[1;36m0\u001b[0m\u001b[1;33m]\u001b[0m \u001b[1;32mis\u001b[0m \u001b[1;32mNone\u001b[0m\u001b[1;33m:\u001b[0m\u001b[1;33m\u001b[0m\u001b[0m\n",
      "\u001b[1;32mF:\\Anaconda\\lib\\site-packages\\scipy\\optimize\\linesearch.py\u001b[0m in \u001b[0;36mline_search_wolfe1\u001b[1;34m(f, fprime, xk, pk, gfk, old_fval, old_old_fval, args, c1, c2, amax, amin, xtol)\u001b[0m\n\u001b[0;32m     95\u001b[0m         \u001b[1;32mreturn\u001b[0m \u001b[0mnp\u001b[0m\u001b[1;33m.\u001b[0m\u001b[0mdot\u001b[0m\u001b[1;33m(\u001b[0m\u001b[0mgval\u001b[0m\u001b[1;33m[\u001b[0m\u001b[1;36m0\u001b[0m\u001b[1;33m]\u001b[0m\u001b[1;33m,\u001b[0m \u001b[0mpk\u001b[0m\u001b[1;33m)\u001b[0m\u001b[1;33m\u001b[0m\u001b[0m\n\u001b[0;32m     96\u001b[0m \u001b[1;33m\u001b[0m\u001b[0m\n\u001b[1;32m---> 97\u001b[1;33m     \u001b[0mderphi0\u001b[0m \u001b[1;33m=\u001b[0m \u001b[0mnp\u001b[0m\u001b[1;33m.\u001b[0m\u001b[0mdot\u001b[0m\u001b[1;33m(\u001b[0m\u001b[0mgfk\u001b[0m\u001b[1;33m,\u001b[0m \u001b[0mpk\u001b[0m\u001b[1;33m)\u001b[0m\u001b[1;33m\u001b[0m\u001b[0m\n\u001b[0m\u001b[0;32m     98\u001b[0m \u001b[1;33m\u001b[0m\u001b[0m\n\u001b[0;32m     99\u001b[0m     stp, fval, old_fval = scalar_search_wolfe1(\n",
      "\u001b[1;31mValueError\u001b[0m: shapes (6,118) and (6,118) not aligned: 118 (dim 1) != 6 (dim 0)"
     ]
    }
   ],
   "source": [
    "######此处使用scipy中optimize中的fmin_bfgs函数\n",
    "def decorated_cost(theta):  \n",
    "    return cost_function_reg(theta, it, y, l) \n",
    "def decorated_grad(theta):  \n",
    "    return function_grad(theta, it, y, l) \n",
    "result=fmin_bfgs(decorated_cost, initial_theta,fprime=decorated_grad,maxiter=1000)\n",
    "print(result)"
   ]
  },
  {
   "cell_type": "code",
   "execution_count": null,
   "metadata": {
    "collapsed": true
   },
   "outputs": [],
   "source": [
    "u = linspace(-1,1.5,50)  \n",
    "v = linspace(-1,1.5,50)  \n",
    "z = zeros(shape=(len(u), len(v)))  \n",
    "for i in range(len(u)):  \n",
    "    for j in range(len(v)):  \n",
    "        z[i, j]=(map_feature(array(u[i]), array(v[j])).dot(array(theta)))  \n",
    "z = z.T  \n",
    "contour(u, v, z)  \n",
    "title('lambda = %f'% l)  \n",
    "xlabel('Microchip Test 1')  \n",
    "ylabel('Microchip Test 2')  \n",
    "legend(['y = 1','y = 0','Decision boundary'])  \n",
    "show()  \n",
    "def predict(theta, X):  \n",
    "    '''''Predict whether the label \n",
    "    is 0 or 1 using learned logistic \n",
    "    regression parameters '''  \n",
    "    m, n = X.shape  \n",
    "    p = zeros(shape=(m,1))  \n",
    "    h = sigmoid(X.dot(theta.T))  \n",
    "    for it in range(0, h.shape[0]):  \n",
    "        if h[it]>0.5:  \n",
    "            p[it,0]=1  \n",
    "        else:  \n",
    "            p[it,0]=0  \n",
    "    return p  \n",
    "#% Compute accuracy on our training set  \n",
    "p = predict(array(theta), it)  \n",
    "print'Train Accuracy: %f'%((y[where(p == y)].size / float(y.size))*100.0)  "
   ]
  }
 ],
 "metadata": {
  "kernelspec": {
   "display_name": "Python 3",
   "language": "python",
   "name": "python3"
  },
  "language_info": {
   "codemirror_mode": {
    "name": "ipython",
    "version": 3
   },
   "file_extension": ".py",
   "mimetype": "text/x-python",
   "name": "python",
   "nbconvert_exporter": "python",
   "pygments_lexer": "ipython3",
   "version": "3.6.2"
  }
 },
 "nbformat": 4,
 "nbformat_minor": 2
}
