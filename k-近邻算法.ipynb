{
 "cells": [
  {
   "cell_type": "code",
   "execution_count": 61,
   "metadata": {
    "collapsed": true
   },
   "outputs": [],
   "source": [
    "import numpy as np\n",
    "import operator"
   ]
  },
  {
   "cell_type": "code",
   "execution_count": 62,
   "metadata": {},
   "outputs": [],
   "source": [
    "#导入数据\n",
    "def createData():\n",
    "    #四组二维特征\n",
    "    group = np.array([[1,101],[5,89],[108,5],[115,8]])\n",
    "    #四组特征的标签\n",
    "    labels = ['爱情片','爱情片','动作片','动作片']\n",
    "    return group,labels"
   ]
  },
  {
   "cell_type": "code",
   "execution_count": 63,
   "metadata": {},
   "outputs": [],
   "source": [
    "def classify(test,group,labels,k):\n",
    "    #计算距离\n",
    "    diffMat=group-test\n",
    "    sqdiffMat=diffMat**2\n",
    "    dist=(sqdiffMat.sum(axis=1))**0.5\n",
    "    \n",
    "    #排序\n",
    "    sort_index=dist.argsort()\n",
    "    \n",
    "    #累计\n",
    "    classCount={}\n",
    "    for i in range(k):\n",
    "        voteIlabel = labels[sort_index[i]]\n",
    "        #dict.get(key,default=None),字典的get()方法,返回指定键的值,如果值不在字典中返回默认值。\n",
    "        #计算类别次数\n",
    "        classCount[voteIlabel] = classCount.get(voteIlabel,0) + 1  \n",
    "    \n",
    "    #python3中用items()替换python2中的iteritems()\n",
    "    #key=operator.itemgetter(1)根据字典的值进行排序\n",
    "    #key=operator.itemgetter(0)根据字典的键进行排序\n",
    "    #reverse降序排序字典\n",
    "    sortedClassCount = sorted(classCount.items(),key=operator.itemgetter(1),reverse=True)\n",
    "    #返回次数最多的类别,即所要分类的类别\n",
    "    return sortedClassCount[0][0]"
   ]
  },
  {
   "cell_type": "code",
   "execution_count": 64,
   "metadata": {},
   "outputs": [
    {
     "name": "stdout",
     "output_type": "stream",
     "text": [
      "动作片\n"
     ]
    }
   ],
   "source": [
    "if __name__ == '__main__':\n",
    "    #创建数据集\n",
    "    group, labels = createData()\n",
    "    #测试集\n",
    "    test = [101,20]\n",
    "    #kNN分类\n",
    "    test_class = classify(test, group, labels, 3)\n",
    "    #打印分类结果\n",
    "    print(test_class)"
   ]
  }
 ],
 "metadata": {
  "kernelspec": {
   "display_name": "Python 3",
   "language": "python",
   "name": "python3"
  },
  "language_info": {
   "codemirror_mode": {
    "name": "ipython",
    "version": 3
   },
   "file_extension": ".py",
   "mimetype": "text/x-python",
   "name": "python",
   "nbconvert_exporter": "python",
   "pygments_lexer": "ipython3",
   "version": "3.6.2"
  }
 },
 "nbformat": 4,
 "nbformat_minor": 2
}
