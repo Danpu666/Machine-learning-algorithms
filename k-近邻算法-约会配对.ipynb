{
 "cells": [
  {
   "cell_type": "code",
   "execution_count": 34,
   "metadata": {
    "collapsed": true
   },
   "outputs": [],
   "source": [
    "import numpy as np\n",
    "import operator"
   ]
  },
  {
   "cell_type": "code",
   "execution_count": 35,
   "metadata": {},
   "outputs": [],
   "source": [
    "##读取数据\n",
    "# -*- coding: UTF-8 -*-\n",
    "\n",
    "def createData(filename):   \n",
    "    file=open(filename)\n",
    "    a=file.readlines()\n",
    "    #得到文件行数\n",
    "    Lines = len(a)\n",
    "    #返回的NumPy矩阵,解析完成的数据:numberOfLines行,3列\n",
    "    data = np.zeros((Lines,3))\n",
    "    #返回的分类标签向量\n",
    "    Labels = []\n",
    "    #行的索引值\n",
    "    index = 0\n",
    "    for line in a:\n",
    "        #s.strip(rm)，当rm空时,默认删除空白符(包括'\\n','\\r','\\t',' ')\n",
    "        line = line.strip()\n",
    "        #使用s.split(str=\"\",num=string,cout(str))将字符串根据'\\t'分隔符进行切片。\n",
    "        Line = line.split('\\t')\n",
    "        #将数据前三列提取出来,存放到returnMat的NumPy矩阵中,也就是特征矩阵\n",
    "        data[index,:] = Line[0:3]\n",
    "        #根据文本中标记的喜欢的程度进行分类,1代表不喜欢,2代表魅力一般,3代表极具魅力\n",
    "        if Line[-1] == 'didntLike':\n",
    "            Labels.append(1)\n",
    "        elif Line[-1] == 'smallDoses':\n",
    "            Labels.append(2)\n",
    "        elif Line[-1] == 'largeDoses':\n",
    "            Labels.append(3)\n",
    "        index += 1\n",
    "    return data,Labels"
   ]
  },
  {
   "cell_type": "code",
   "execution_count": 36,
   "metadata": {
    "collapsed": true
   },
   "outputs": [],
   "source": [
    "####数据归一化\n",
    "def autoNorm(dataSet):\n",
    "    #获得数据的最小值\n",
    "    minVals = dataSet.min(0)\n",
    "    maxVals = dataSet.max(0)\n",
    "    #最大值和最小值的范围\n",
    "    ranges = maxVals - minVals\n",
    "    #shape(dataSet)返回dataSet的矩阵行列数\n",
    "    normDataSet = np.zeros(np.shape(dataSet))\n",
    "    #返回dataSet的行数\n",
    "    m = dataSet.shape[0]\n",
    "    #原始值减去最小值\n",
    "    normDataSet = dataSet - minVals\n",
    "    #除以最大和最小值的差,得到归一化数据\n",
    "    normDataSet = normDataSet /ranges\n",
    "    #返回归一化数据结果,数据范围,最小值\n",
    "    return normDataSet"
   ]
  },
  {
   "cell_type": "code",
   "execution_count": 37,
   "metadata": {
    "collapsed": true
   },
   "outputs": [],
   "source": [
    "###分类函数\n",
    "def classify(test,group,labels,k):\n",
    "    #计算距离\n",
    "    diffMat=group-test\n",
    "    sqdiffMat=diffMat**2\n",
    "    dist=(sqdiffMat.sum(axis=1))**0.5\n",
    "    \n",
    "    #排序\n",
    "    sort_index=dist.argsort()\n",
    "    \n",
    "    #累计\n",
    "    classCount={}\n",
    "    for i in range(k):\n",
    "        voteIlabel = labels[sort_index[i]]\n",
    "        #dict.get(key,default=None),字典的get()方法,返回指定键的值,如果值不在字典中返回默认值。\n",
    "        #计算类别次数\n",
    "        classCount[voteIlabel] = classCount.get(voteIlabel,0) + 1  \n",
    "    \n",
    "    #python3中用items()替换python2中的iteritems()\n",
    "    #key=operator.itemgetter(1)根据字典的值进行排序\n",
    "    #key=operator.itemgetter(0)根据字典的键进行排序\n",
    "    #reverse降序排序字典\n",
    "    sortedClassCount = sorted(classCount.items(),key=operator.itemgetter(1),reverse=True)\n",
    "    #返回次数最多的类别,即所要分类的类别\n",
    "    return sortedClassCount[0][0]"
   ]
  },
  {
   "cell_type": "code",
   "execution_count": 38,
   "metadata": {
    "collapsed": true
   },
   "outputs": [],
   "source": [
    "def function_knn():\n",
    "    filename=\"C:\\\\Users\\\\sony\\\\Desktop\\\\datingTestSet.txt\"\n",
    "    data,Labels=createData(filename)\n",
    "    normdata=autoNorm(data)\n",
    "    \n",
    "    ##划分数据\n",
    "    ratio=0.1\n",
    "    m=normdata.shape[0]\n",
    "    num=int(m*ratio)\n",
    "    errorCount=0.0\n",
    "    \n",
    "    for i in range(num):\n",
    "        result=classify(normdata[i,:],normdata[num:m,:],Labels[num:m],k=4)\n",
    "        if result!=Labels[i]:\n",
    "            errorCount += 1.0\n",
    "    print(\"错误率:%f%%\" %(errorCount/float(num)*100))"
   ]
  },
  {
   "cell_type": "code",
   "execution_count": 39,
   "metadata": {},
   "outputs": [
    {
     "name": "stdout",
     "output_type": "stream",
     "text": [
      "错误率:4.000000%\n"
     ]
    }
   ],
   "source": [
    "#执行结果\n",
    "if __name__ == '__main__':\n",
    "    function_knn()"
   ]
  }
 ],
 "metadata": {
  "kernelspec": {
   "display_name": "Python 3",
   "language": "python",
   "name": "python3"
  },
  "language_info": {
   "codemirror_mode": {
    "name": "ipython",
    "version": 3
   },
   "file_extension": ".py",
   "mimetype": "text/x-python",
   "name": "python",
   "nbconvert_exporter": "python",
   "pygments_lexer": "ipython3",
   "version": "3.6.2"
  }
 },
 "nbformat": 4,
 "nbformat_minor": 2
}
