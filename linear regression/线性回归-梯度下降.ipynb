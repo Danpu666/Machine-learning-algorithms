{
 "cells": [
  {
   "cell_type": "code",
   "execution_count": 1,
   "metadata": {
    "collapsed": true
   },
   "outputs": [],
   "source": [
    "import matplotlib.pyplot as plt\n",
    "import numpy as np"
   ]
  },
  {
   "cell_type": "code",
   "execution_count": 2,
   "metadata": {
    "collapsed": true
   },
   "outputs": [],
   "source": [
    "#导入数据\n",
    "X=np.array([[6],[8],[10],[14],[18]])\n",
    "y=np.array([[7],[9],[13],[17.5],[18]])"
   ]
  },
  {
   "cell_type": "code",
   "execution_count": 3,
   "metadata": {},
   "outputs": [
    {
     "data": {
      "image/png": "[encoded data removed]",
      "text/plain": [
       "<matplotlib.figure.Figure at 0x19428f59a20>"
      ]
     },
     "metadata": {},
     "output_type": "display_data"
    }
   ],
   "source": [
    "#绘图\n",
    "plt.plot(X,y,'k.')\n",
    "plt.title(\"show\")\n",
    "plt.xlabel(\"X\")\n",
    "plt.ylabel(\"y\")\n",
    "plt.axis([0,25,0,25])\n",
    "plt.grid(True)\n",
    "plt.show()"
   ]
  },
  {
   "cell_type": "code",
   "execution_count": 4,
   "metadata": {
    "collapsed": true
   },
   "outputs": [],
   "source": [
    "#计算代价函数\n",
    "def computerCost(X,y,theta):\n",
    "    m=len(y)\n",
    "    J=0\n",
    "    \n",
    "    J=(np.transpose(X*theta-y))*(X*theta-y)/(2*m)\n",
    "    return J"
   ]
  },
  {
   "cell_type": "code",
   "execution_count": 5,
   "metadata": {
    "collapsed": true
   },
   "outputs": [],
   "source": [
    "#梯度下降算法\n",
    "def gradientDescent(X,y,theta,alpha,num_iters):\n",
    "    m=len(y)\n",
    "    n=len(theta)\n",
    "    J_history=np.zeros((num_iters,1))#记录每次迭代计算的计算值\n",
    "    \n",
    "    for i in range(num_iters):\n",
    "        h=np.dot(X,theta)\n",
    "        theta=theta-(alpha/m)*(np.dot(np.transpose(X),h-y))\n",
    "        J_history[i]=computerCost(X,y,theta)\n",
    "    return theta,J_history"
   ]
  },
  {
   "cell_type": "code",
   "execution_count": 6,
   "metadata": {
    "collapsed": true
   },
   "outputs": [],
   "source": [
    "#结果展示\n",
    "X=np.c_[np.ones((X.shape[0],1)),X]\n",
    "theta=np.ones((2,1))\n",
    "alpha=0.01\n",
    "num_iters=5000"
   ]
  },
  {
   "cell_type": "code",
   "execution_count": 7,
   "metadata": {},
   "outputs": [
    {
     "name": "stdout",
     "output_type": "stream",
     "text": [
      "theta [[ 1.96393512]\n",
      " [ 0.97641627]]\n"
     ]
    },
    {
     "data": {
      "image/png": "[encoded data removed]",
      "text/plain": [
       "<matplotlib.figure.Figure at 0x19429470e80>"
      ]
     },
     "metadata": {},
     "output_type": "display_data"
    }
   ],
   "source": [
    "##########注意需要将X,y，theta转化为矩阵形式，否则会出错\n",
    "X=np.matrix(X)\n",
    "y=np.matrix(y)\n",
    "theta=np.matrix(theta)\n",
    "result=gradientDescent(X,y,theta,alpha,num_iters)\n",
    "theta=result[0]\n",
    "print('theta',theta)\n",
    "plt.plot(result[1])\n",
    "plt.show()"
   ]
  },
  {
   "cell_type": "code",
   "execution_count": 8,
   "metadata": {},
   "outputs": [
    {
     "data": {
      "text/plain": [
       "matrix([[ 1.96551724],\n",
       "        [ 0.9762931 ]])"
      ]
     },
     "execution_count": 8,
     "metadata": {},
     "output_type": "execute_result"
    }
   ],
   "source": [
    "#################公式计算\n",
    "(X.T*X).I*X.T*y"
   ]
  }
 ],
 "metadata": {
  "kernelspec": {
   "display_name": "Python 3",
   "language": "python",
   "name": "python3"
  },
  "language_info": {
   "codemirror_mode": {
    "name": "ipython",
    "version": 3
   },
   "file_extension": ".py",
   "mimetype": "text/x-python",
   "name": "python",
   "nbconvert_exporter": "python",
   "pygments_lexer": "ipython3",
   "version": "3.6.2"
  }
 },
 "nbformat": 4,
 "nbformat_minor": 2
}
