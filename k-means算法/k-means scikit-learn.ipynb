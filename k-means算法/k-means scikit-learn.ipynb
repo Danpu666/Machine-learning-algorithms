{
 "cells": [
  {
   "cell_type": "code",
   "execution_count": 10,
   "metadata": {
    "collapsed": true
   },
   "outputs": [],
   "source": [
    "# -*- coding: utf-8 -*- \n",
    "import numpy as np\n",
    "import matplotlib.pyplot as plt"
   ]
  },
  {
   "cell_type": "code",
   "execution_count": 11,
   "metadata": {
    "collapsed": true
   },
   "outputs": [],
   "source": [
    "#导入数据\n",
    "data=np.loadtxt('C:/Users/sony/Desktop/k-means data.txt',delimiter=',')\n",
    "data=data[:,1:]"
   ]
  },
  {
   "cell_type": "code",
   "execution_count": 12,
   "metadata": {},
   "outputs": [
    {
     "data": {
      "image/png": "[encoded data removed]",
      "text/plain": [
       "<matplotlib.figure.Figure at 0x1aa08815390>"
      ]
     },
     "metadata": {},
     "output_type": "display_data"
    }
   ],
   "source": [
    "plt.scatter(data[:,0],data[:,1])\n",
    "plt.show()"
   ]
  },
  {
   "cell_type": "code",
   "execution_count": 13,
   "metadata": {},
   "outputs": [
    {
     "name": "stdout",
     "output_type": "stream",
     "text": [
      "[2 2 0 2 0 1 1 1 0 1 1 1 0 0 1 0 0 1 1 1 0 2 2 2 2 2 2 2 2 2]\n",
      "[[ 0.656       0.16325   ]\n",
      " [ 0.3492      0.2076    ]\n",
      " [ 0.6005      0.40491667]]\n"
     ]
    }
   ],
   "source": [
    "import numpy as np\n",
    "from sklearn.cluster import KMeans\n",
    "\n",
    "#假如我要构造一个聚类数为3的聚类器\n",
    "estimator = KMeans(n_clusters=3)#构造聚类器\n",
    "estimator.fit(data)#聚类\n",
    "\n",
    "label_pred = estimator.labels_ #获取聚类标签\n",
    "print(label_pred)\n",
    "centroids = estimator.cluster_centers_ #获取聚类中心\n",
    "print(centroids)"
   ]
  },
  {
   "cell_type": "code",
   "execution_count": 14,
   "metadata": {},
   "outputs": [
    {
     "data": {
      "image/png": "[encoded data removed]",
      "text/plain": [
       "<matplotlib.figure.Figure at 0x1aa0887fc88>"
      ]
     },
     "metadata": {},
     "output_type": "display_data"
    }
   ],
   "source": [
    "######图像展示\n",
    "pos1=np.where(label_pred==0)\n",
    "pos2=np.where(label_pred==1)\n",
    "pos3=np.where(label_pred==2)\n",
    " \n",
    "plt.scatter(data[pos1, 0], data[pos1, 1], marker='o', c='b')  \n",
    "plt.scatter(data[pos2, 0], data[pos2, 1], marker='x', c='r')  \n",
    "plt.scatter(data[pos3, 0], data[pos3, 1], marker='x', c='green')  \n",
    "plt.show() "
   ]
  }
 ],
 "metadata": {
  "kernelspec": {
   "display_name": "Python 3",
   "language": "python",
   "name": "python3"
  },
  "language_info": {
   "codemirror_mode": {
    "name": "ipython",
    "version": 3
   },
   "file_extension": ".py",
   "mimetype": "text/x-python",
   "name": "python",
   "nbconvert_exporter": "python",
   "pygments_lexer": "ipython3",
   "version": "3.6.2"
  }
 },
 "nbformat": 4,
 "nbformat_minor": 2
}
