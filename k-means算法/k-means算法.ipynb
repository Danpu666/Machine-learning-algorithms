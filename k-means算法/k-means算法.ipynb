{
 "cells": [
  {
   "cell_type": "code",
   "execution_count": 118,
   "metadata": {
    "collapsed": true
   },
   "outputs": [],
   "source": [
    "# -*- coding: utf-8 -*- \n",
    "import numpy as np\n",
    "import matplotlib.pyplot as plt\n",
    "import random"
   ]
  },
  {
   "cell_type": "code",
   "execution_count": 119,
   "metadata": {},
   "outputs": [],
   "source": [
    "#导入数据\n",
    "data=np.loadtxt('C:/Users/sony/Desktop/k-means data.txt',delimiter=',')\n",
    "data=data[:,1:]"
   ]
  },
  {
   "cell_type": "code",
   "execution_count": 120,
   "metadata": {},
   "outputs": [
    {
     "data": {
      "image/png": "[encoded data removed]",
      "text/plain": [
       "<matplotlib.figure.Figure at 0x268e856f8d0>"
      ]
     },
     "metadata": {},
     "output_type": "display_data"
    }
   ],
   "source": [
    "plt.scatter(data[:,0],data[:,1])\n",
    "plt.show()"
   ]
  },
  {
   "cell_type": "code",
   "execution_count": 121,
   "metadata": {
    "collapsed": true
   },
   "outputs": [],
   "source": [
    "##选取初试中心\n",
    "def initcenter(data,k):\n",
    "    center=np.zeros([k,data.shape[1]])\n",
    "    mins=data.min(0)\n",
    "    maxs=data.max(0)\n",
    "    ranges=maxs-mins\n",
    "    \n",
    "    a=random.sample(range(data.shape[0]),k)\n",
    "    b=data[a,:]\n",
    "    center=mins+ranges*b\n",
    "    return center"
   ]
  },
  {
   "cell_type": "code",
   "execution_count": 122,
   "metadata": {},
   "outputs": [],
   "source": [
    "def function_kmeans(data,k):\n",
    "    m=np.shape(data)[0]\n",
    "    #用来存放该样本属于哪类及质心距离\n",
    "    cluster=np.zeros([m,2])\n",
    "    \n",
    "    center=initcenter(data,k)\n",
    "    #用来判断聚类是否已经收敛\n",
    "    change=True\n",
    "    while change:\n",
    "        change=False;\n",
    "        for i in range(m):\n",
    "            minDist = np.inf; minIndex = -1;\n",
    "            for j in range(k):\n",
    "                distJI =np.linalg.norm(center[j,:]-data[i,:])\n",
    "                if distJI < minDist:\n",
    "                    minDist = distJI\n",
    "                    minIndex = j  \n",
    "                    # 如果第i个数据点到第j个中心点更近，则将i归属为j\n",
    "            if cluster[i,0] != minIndex: \n",
    "                change = True  \n",
    "                # 如果分配发生变化，则需要继续迭代\n",
    "            cluster[i,:] = minIndex,minDist**2   \n",
    "            # 并将第i个数据点的分配情况存入字典\n",
    "        print(center)\n",
    "        for cent in range(k):   # 重新计算中心点\n",
    "            ptsInClust = data[cluster[:,0] == cent]   \n",
    "            # 取第一列等于cent的所有列\n",
    "            center[cent,:] = np.mean(ptsInClust, axis = 0)  \n",
    "            # 算出这些数据的中心点\n",
    "    \n",
    "    return center, cluster"
   ]
  },
  {
   "cell_type": "code",
   "execution_count": 123,
   "metadata": {},
   "outputs": [
    {
     "name": "stdout",
     "output_type": "stream",
     "text": [
      "[[ 0.484286  0.247173]\n",
      " [ 0.563813  0.060774]\n",
      " [ 0.426399  0.149727]]\n",
      "[[ 0.56447059  0.36211765]\n",
      " [ 0.67633333  0.13783333]\n",
      " [ 0.32742857  0.17971429]]\n",
      "[[ 0.60307692  0.39407692]\n",
      " [ 0.65914286  0.14885714]\n",
      " [ 0.3492      0.2076    ]]\n",
      "[[ 0.6005      0.40491667]\n",
      " [ 0.656       0.16325   ]\n",
      " [ 0.3492      0.2076    ]]\n",
      "聚类中心： [[ 0.6005      0.40491667]\n",
      " [ 0.656       0.16325   ]\n",
      " [ 0.3492      0.2076    ]]\n",
      "分类结果： [[  0.00000000e+00   1.23464236e-02]\n",
      " [  0.00000000e+00   3.09384236e-02]\n",
      " [  1.00000000e+00   1.06345625e-02]\n",
      " [  0.00000000e+00   7.61075694e-03]\n",
      " [  1.00000000e+00   1.26780625e-02]\n",
      " [  2.00000000e+00   3.75880000e-03]\n",
      " [  2.00000000e+00   2.08052000e-02]\n",
      " [  2.00000000e+00   7.72040000e-03]\n",
      " [  1.00000000e+00   5.32006250e-03]\n",
      " [  2.00000000e+00   1.48068000e-02]\n",
      " [  2.00000000e+00   3.35380000e-02]\n",
      " [  2.00000000e+00   1.18324000e-02]\n",
      " [  1.00000000e+00   2.94062500e-04]\n",
      " [  1.00000000e+00   1.20856250e-03]\n",
      " [  2.00000000e+00   2.64904000e-02]\n",
      " [  1.00000000e+00   1.86705625e-02]\n",
      " [  1.00000000e+00   7.59906250e-03]\n",
      " [  2.00000000e+00   4.80200000e-04]\n",
      " [  2.00000000e+00   1.21960000e-03]\n",
      " [  2.00000000e+00   6.95620000e-03]\n",
      " [  1.00000000e+00   2.11105625e-02]\n",
      " [  0.00000000e+00   1.63534236e-02]\n",
      " [  0.00000000e+00   2.24397569e-02]\n",
      " [  0.00000000e+00   1.60355903e-02]\n",
      " [  0.00000000e+00   6.99025694e-03]\n",
      " [  0.00000000e+00   2.97202569e-02]\n",
      " [  0.00000000e+00   9.19242361e-03]\n",
      " [  0.00000000e+00   1.70924236e-02]\n",
      " [  0.00000000e+00   1.71069236e-02]\n",
      " [  0.00000000e+00   2.67952569e-02]]\n"
     ]
    }
   ],
   "source": [
    "center,cluster=function_kmeans(data,3)\n",
    "print(\"聚类中心：\",center)\n",
    "print(\"分类结果：\",cluster)"
   ]
  },
  {
   "cell_type": "code",
   "execution_count": 124,
   "metadata": {},
   "outputs": [
    {
     "data": {
      "image/png": "[encoded data removed]",
      "text/plain": [
       "<matplotlib.figure.Figure at 0x268e84613c8>"
      ]
     },
     "metadata": {},
     "output_type": "display_data"
    }
   ],
   "source": [
    "######图像展示\n",
    "pos1=np.where(cluster[:,0]==0)\n",
    "pos2=np.where(cluster[:,0]==1)\n",
    "pos3=np.where(cluster[:,0]==2)\n",
    " \n",
    "plt.scatter(data[pos1, 0], data[pos1, 1], marker='o', c='b')  \n",
    "plt.scatter(data[pos2, 0], data[pos2, 1], marker='x', c='r')  \n",
    "plt.scatter(data[pos3, 0], data[pos3, 1], marker='x', c='green')  \n",
    "plt.show() "
   ]
  }
 ],
 "metadata": {
  "kernelspec": {
   "display_name": "Python 3",
   "language": "python",
   "name": "python3"
  },
  "language_info": {
   "codemirror_mode": {
    "name": "ipython",
    "version": 3
   },
   "file_extension": ".py",
   "mimetype": "text/x-python",
   "name": "python",
   "nbconvert_exporter": "python",
   "pygments_lexer": "ipython3",
   "version": "3.6.2"
  }
 },
 "nbformat": 4,
 "nbformat_minor": 2
}
