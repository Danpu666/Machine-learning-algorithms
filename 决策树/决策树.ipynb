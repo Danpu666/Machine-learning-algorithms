{
 "cells": [
  {
   "cell_type": "code",
   "execution_count": 49,
   "metadata": {
    "collapsed": true
   },
   "outputs": [],
   "source": [
    "# -*- coding: UTF-8 -*-\n",
    "from math import log\n",
    "import operator"
   ]
  },
  {
   "cell_type": "code",
   "execution_count": 50,
   "metadata": {
    "collapsed": true
   },
   "outputs": [],
   "source": [
    "####导入数据集\n",
    "def createDataSet():\n",
    "    dataSet = [[0, 0, 0, 0, 'no'],         #数据集\n",
    "            [0, 0, 0, 1, 'no'],\n",
    "            [0, 1, 0, 1, 'yes'],\n",
    "            [0, 1, 1, 0, 'yes'],\n",
    "            [0, 0, 0, 0, 'no'],\n",
    "            [1, 0, 0, 0, 'no'],\n",
    "            [1, 0, 0, 1, 'no'],\n",
    "            [1, 1, 1, 1, 'yes'],\n",
    "            [1, 0, 1, 2, 'yes'],\n",
    "            [1, 0, 1, 2, 'yes'],\n",
    "            [2, 0, 1, 2, 'yes'],\n",
    "            [2, 0, 1, 1, 'yes'],\n",
    "            [2, 1, 0, 1, 'yes'],\n",
    "            [2, 1, 0, 2, 'yes'],\n",
    "            [2, 0, 0, 0, 'no']]\n",
    "    labels = ['年龄', '有工作', '有自己的房子', '信贷情况']        #分类属性\n",
    "    return dataSet, labels                #返回数据集和分类属性"
   ]
  },
  {
   "cell_type": "code",
   "execution_count": 51,
   "metadata": {
    "collapsed": true
   },
   "outputs": [],
   "source": [
    "####计算熵\n",
    "def calcShannonEnt(dataSet):\n",
    "    numEntires = len(dataSet)                       \n",
    "    labelCounts = {}                                \n",
    "    #保存每个标签(Label)出现次数的字典\n",
    "    for featVec in dataSet:                           \n",
    "        currentLabel = featVec[-1]                    \n",
    "        #提取标签(Label)信息\n",
    "        if currentLabel not in labelCounts.keys():  \n",
    "            #如果标签(Label)没有放入统计次数的字典,添加进去\n",
    "            labelCounts[currentLabel] = 0\n",
    "        labelCounts[currentLabel] += 1                \n",
    "    shannonEnt = 0.0                                \n",
    "    for key in labelCounts:                         \n",
    "        #计算香农熵\n",
    "        prob = float(labelCounts[key]) / numEntires    \n",
    "        shannonEnt -= prob * log(prob, 2)           \n",
    "    return shannonEnt                                "
   ]
  },
  {
   "cell_type": "code",
   "execution_count": 52,
   "metadata": {
    "collapsed": true
   },
   "outputs": [],
   "source": [
    "####划分数据\n",
    "def splitDataSet(dataSet, axis, value):       \n",
    "    retDataSet = []                                        \n",
    "    #创建返回的数据集列表\n",
    "    for featVec in dataSet:                             \n",
    "        if featVec[axis] == value:\n",
    "            reducedFeatVec = featVec[:axis]                \n",
    "            #去掉axis特征\n",
    "            reducedFeatVec.extend(featVec[axis+1:])     \n",
    "            retDataSet.append(reducedFeatVec)\n",
    "    return retDataSet                                   "
   ]
  },
  {
   "cell_type": "code",
   "execution_count": 53,
   "metadata": {},
   "outputs": [],
   "source": [
    "####选择最佳特征\n",
    "def chooseBestFeatureToSplit(dataSet):\n",
    "    baseEntropy = calcShannonEnt(dataSet)  \n",
    "    #计算数据集的香农熵\n",
    "    \n",
    "    numFeatures = len(dataSet[0]) - 1                                \n",
    "    bestInfoGain = 0.0                                  \n",
    "    #信息增益\n",
    "    bestFeature = -1                                    \n",
    "    #最优特征的索引值\n",
    "    for i in range(numFeatures):                     \n",
    "        featList = [example[i] for example in dataSet]\n",
    "        #获取dataSet的第i个所有特征\n",
    "        uniqueVals = set(featList)                         \n",
    "        #创建set集合{},元素不可重复\n",
    "        newEntropy = 0.0                                  \n",
    "        #经验条件熵\n",
    "        for value in uniqueVals:                        \n",
    "            subDataSet = splitDataSet(dataSet, i, value)         \n",
    "            #subDataSet划分后的子集\n",
    "            prob = len(subDataSet) / float(len(dataSet))           \n",
    "            #计算子集的概率\n",
    "            newEntropy += prob * calcShannonEnt(subDataSet)     \n",
    "            #根据公式计算经验条件熵\n",
    "        infoGain = baseEntropy - newEntropy                    \n",
    "        #信息增益\n",
    "        print(\"第%d个特征的增益为%.3f\" % (i, infoGain))           \n",
    "        if (infoGain > bestInfoGain):                            \n",
    "            bestInfoGain = infoGain                          \n",
    "            bestFeature = i                                     \n",
    "            #记录信息增益最大的特征的索引值\n",
    "    return bestFeature                                            "
   ]
  },
  {
   "cell_type": "code",
   "execution_count": 54,
   "metadata": {},
   "outputs": [
    {
     "name": "stdout",
     "output_type": "stream",
     "text": [
      "第0个特征的增益为0.083\n",
      "第1个特征的增益为0.324\n",
      "第2个特征的增益为0.420\n",
      "第3个特征的增益为0.363\n",
      "最优特征索引值: 2\n"
     ]
    }
   ],
   "source": [
    "if __name__ == '__main__':\n",
    "    dataSet, features = createDataSet()\n",
    "    print(\"最优特征索引值:\", chooseBestFeatureToSplit(dataSet))"
   ]
  },
  {
   "cell_type": "code",
   "execution_count": 55,
   "metadata": {
    "collapsed": true
   },
   "outputs": [],
   "source": [
    "#####当无法简单地返回唯一的类标签时，返回种类最多的类别\n",
    "def majorityCnt(classList):\n",
    "    classCount = {}\n",
    "    for vote in classList:                                        \n",
    "        #统计classList中每个元素出现的次数\n",
    "        classCount[vote] = classCount.get(vote,0) + 1\n",
    "        \n",
    "    sortedClassCount = sorted(classCount.items(), key = operator.itemgetter(1), reverse = True)        \n",
    "    #根据字典的值降序排序\n",
    "    return sortedClassCount[0][0]                                "
   ]
  },
  {
   "cell_type": "code",
   "execution_count": 56,
   "metadata": {
    "collapsed": true
   },
   "outputs": [],
   "source": [
    "####构建决策树\n",
    "def createTree(dataSet, labels, featLabels):\n",
    "    classList = [example[-1] for example in dataSet]            #取分类标签(是否放贷:yes or no)\n",
    "    if classList.count(classList[0]) == len(classList):            #如果类别完全相同则停止继续划分\n",
    "        return classList[0]\n",
    "    if len(dataSet[0]) == 1:                                    #遍历完所有特征时返回出现次数最多的类标签\n",
    "        return majorityCnt(classList)\n",
    "    bestFeat = chooseBestFeatureToSplit(dataSet)                #选择最优特征\n",
    "    bestFeatLabel = labels[bestFeat]                            #最优特征的标签\n",
    "    featLabels.append(bestFeatLabel)\n",
    "    myTree = {bestFeatLabel:{}}                                    #根据最优特征的标签生成树\n",
    "    del(labels[bestFeat])                                        #删除已经使用特征标签\n",
    "    featValues = [example[bestFeat] for example in dataSet]        #得到训练集中所有最优特征的属性值\n",
    "    uniqueVals = set(featValues)                                #去掉重复的属性值\n",
    "    for value in uniqueVals:                                    #遍历特征，创建决策树。                       \n",
    "        myTree[bestFeatLabel][value] = createTree(splitDataSet(dataSet, bestFeat, value), labels, featLabels)\n",
    "    return myTree"
   ]
  },
  {
   "cell_type": "code",
   "execution_count": 57,
   "metadata": {},
   "outputs": [
    {
     "name": "stdout",
     "output_type": "stream",
     "text": [
      "第0个特征的增益为0.083\n",
      "第1个特征的增益为0.324\n",
      "第2个特征的增益为0.420\n",
      "第3个特征的增益为0.363\n",
      "第0个特征的增益为0.252\n",
      "第1个特征的增益为0.918\n",
      "第2个特征的增益为0.474\n",
      "{'有自己的房子': {0: {'有工作': {0: 'no', 1: 'yes'}}, 1: 'yes'}}\n"
     ]
    }
   ],
   "source": [
    "if __name__ == '__main__':\n",
    "    dataSet, labels = createDataSet()\n",
    "    featLabels = []\n",
    "    myTree = createTree(dataSet, labels, featLabels)\n",
    "    print(myTree)"
   ]
  },
  {
   "cell_type": "code",
   "execution_count": 58,
   "metadata": {
    "collapsed": true
   },
   "outputs": [],
   "source": [
    "def classify(inputTree, featLabels, testVec):\n",
    "    firstStr = next(iter(inputTree))        #获取决策树结点\n",
    "    secondDict = inputTree[firstStr]         #下一个字典\n",
    "    featIndex = featLabels.index(firstStr)\n",
    "    #每循环一次，featIndex都会增加1\n",
    "    for key in secondDict.keys():\n",
    "        if testVec[featIndex] == key:\n",
    "            if type(secondDict[key]).__name__ == 'dict':\n",
    "                classLabel = classify(secondDict[key], featLabels, testVec)\n",
    "            else: classLabel = secondDict[key]\n",
    "    return classLabel"
   ]
  },
  {
   "cell_type": "code",
   "execution_count": 59,
   "metadata": {},
   "outputs": [
    {
     "name": "stdout",
     "output_type": "stream",
     "text": [
      "第0个特征的增益为0.083\n",
      "第1个特征的增益为0.324\n",
      "第2个特征的增益为0.420\n",
      "第3个特征的增益为0.363\n",
      "第0个特征的增益为0.252\n",
      "第1个特征的增益为0.918\n",
      "第2个特征的增益为0.474\n",
      "放贷\n"
     ]
    }
   ],
   "source": [
    "if __name__ == '__main__':\n",
    "    dataSet, labels = createDataSet()\n",
    "    featLabels = []\n",
    "    myTree = createTree(dataSet, labels, featLabels)\n",
    "    testVec = [0,1]                                        #测试数据\n",
    "    result = classify(myTree, featLabels, testVec)\n",
    "    if result == 'yes':\n",
    "        print('放贷')\n",
    "    if result == 'no':\n",
    "        print('不放贷')"
   ]
  }
 ],
 "metadata": {
  "kernelspec": {
   "display_name": "Python 3",
   "language": "python",
   "name": "python3"
  },
  "language_info": {
   "codemirror_mode": {
    "name": "ipython",
    "version": 3
   },
   "file_extension": ".py",
   "mimetype": "text/x-python",
   "name": "python",
   "nbconvert_exporter": "python",
   "pygments_lexer": "ipython3",
   "version": "3.6.2"
  }
 },
 "nbformat": 4,
 "nbformat_minor": 2
}
